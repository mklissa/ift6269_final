{
 "cells": [
  {
   "cell_type": "code",
   "execution_count": 1,
   "metadata": {},
   "outputs": [
    {
     "ename": "ModuleNotFoundError",
     "evalue": "No module named 'pandas'",
     "output_type": "error",
     "traceback": [
      "\u001b[0;31m---------------------------------------------------------------------------\u001b[0m",
      "\u001b[0;31mModuleNotFoundError\u001b[0m                       Traceback (most recent call last)",
      "\u001b[0;32m<ipython-input-1-18e8c63eb0c8>\u001b[0m in \u001b[0;36m<module>\u001b[0;34m\u001b[0m\n\u001b[1;32m      1\u001b[0m \u001b[0;32mimport\u001b[0m \u001b[0mnumpy\u001b[0m \u001b[0;32mas\u001b[0m \u001b[0mnp\u001b[0m\u001b[0;34m\u001b[0m\u001b[0;34m\u001b[0m\u001b[0m\n\u001b[0;32m----> 2\u001b[0;31m \u001b[0;32mimport\u001b[0m \u001b[0mpandas\u001b[0m \u001b[0;32mas\u001b[0m \u001b[0mpd\u001b[0m\u001b[0;34m\u001b[0m\u001b[0;34m\u001b[0m\u001b[0m\n\u001b[0m\u001b[1;32m      3\u001b[0m \u001b[0;32mimport\u001b[0m \u001b[0mholoviews\u001b[0m \u001b[0;32mas\u001b[0m \u001b[0mhv\u001b[0m\u001b[0;34m\u001b[0m\u001b[0;34m\u001b[0m\u001b[0m\n\u001b[1;32m      4\u001b[0m \u001b[0;32mfrom\u001b[0m \u001b[0mholoviews\u001b[0m \u001b[0;32mimport\u001b[0m \u001b[0mopts\u001b[0m\u001b[0;34m\u001b[0m\u001b[0;34m\u001b[0m\u001b[0m\n\u001b[1;32m      5\u001b[0m \u001b[0;32mimport\u001b[0m \u001b[0mseaborn\u001b[0m \u001b[0;32mas\u001b[0m \u001b[0msns\u001b[0m\u001b[0;34m\u001b[0m\u001b[0;34m\u001b[0m\u001b[0m\n",
      "\u001b[0;31mModuleNotFoundError\u001b[0m: No module named 'pandas'"
     ]
    }
   ],
   "source": [
    "import numpy as np\n",
    "import pandas as pd\n",
    "import holoviews as hv\n",
    "from holoviews import opts\n",
    "import seaborn as sns\n",
    "import matplotlib.pyplot as plt\n",
    "from scipy.spatial.distance import cdist\n",
    "\n",
    "%matplotlib inline\n",
    "\n",
    "\n",
    "hv.extension('plotly')"
   ]
  },
  {
   "cell_type": "markdown",
   "metadata": {},
   "source": [
    "## File Loading"
   ]
  },
  {
   "cell_type": "code",
   "execution_count": null,
   "metadata": {},
   "outputs": [],
   "source": [
    "def load_IF(file):\n",
    "    mat = np.load(file)\n",
    "    assert mat.shape[0] == mat.shape[1]\n",
    "    return mat"
   ]
  },
  {
   "cell_type": "markdown",
   "metadata": {},
   "source": [
    "## Initializations"
   ]
  },
  {
   "cell_type": "code",
   "execution_count": null,
   "metadata": {},
   "outputs": [],
   "source": [
    "def compute_cube_side(mat_mean, fact=10):\n",
    "    \"\"\"\n",
    "    The sampling\\simulation cube, all points will be drawn inside of this cube\n",
    "    This method was deprecated in the java code....\n",
    "    \"\"\"\n",
    "    return fact*mat_mean"
   ]
  },
  {
   "cell_type": "code",
   "execution_count": null,
   "metadata": {},
   "outputs": [],
   "source": [
    "def random_connected_structure(start_x, start_y, start_z, n_points, radius):\n",
    "    \"\"\"\n",
    "    Create a random walki structure.\n",
    "    \n",
    "    start_x, start_y, start_z: where to start the random walk in 3D\n",
    "    radius: step size, the distance between two points.\n",
    "    \"\"\"\n",
    "    current_x = start_x\n",
    "    current_y = start_y\n",
    "    current_z = start_z\n",
    "    \n",
    "    pts = []\n",
    "    pts.append((current_x, current_y, current_z))\n",
    "    \n",
    "    for i in range(n_points - 1):\n",
    "        current_x, current_y, current_z = perturb_randomly( np.array((current_x, current_y, current_z)), radius)\n",
    "        pts.append(np.array((current_x, current_y, current_z)))\n",
    "        \n",
    "    return np.array(pts)"
   ]
  },
  {
   "cell_type": "code",
   "execution_count": null,
   "metadata": {},
   "outputs": [],
   "source": [
    "def create_pts_indices_of_interest(IF_mat):\n",
    "    \"\"\"\n",
    "    Get the non-zero values in the IF. Will be used as a filter in\n",
    "    all calculations\n",
    "    \n",
    "    IF_mat: Interaction Frequency matrix\n",
    "    \"\"\"\n",
    "    #res = np.nonzero(IF_mat)\n",
    "    #return IF_mat[res]\n",
    "    \n",
    "    return IF_mat > 0"
   ]
  },
  {
   "cell_type": "code",
   "execution_count": null,
   "metadata": {},
   "outputs": [],
   "source": [
    "def random_connected_circle(center_x, center_y, center_z, n_points, radius, noise=0):\n",
    "    \"\"\"\n",
    "    Creates a circular structure of points\n",
    "    \n",
    "    center_x, center_y, center_z, n_points: Center of the circle in 3D space\n",
    "    radius: radius of the circle (NOT the distance between the points)\n",
    "    noise: Not implemented, but basically we should apply perturb_randomly() to each point.\n",
    "    \"\"\"\n",
    "    return np.array([ (np.cos(2*np.pi/n_points*x)*radius, \n",
    "                       np.sin(2*np.pi/n_points*x)*radius, \n",
    "                       0) for x in range(n_points)])"
   ]
  },
  {
   "cell_type": "markdown",
   "metadata": {},
   "source": [
    "## Perturbations"
   ]
  },
  {
   "cell_type": "code",
   "execution_count": null,
   "metadata": {},
   "outputs": [],
   "source": [
    "def perturb_randomly(pts_arr, radius):\n",
    "    \"\"\"\n",
    "    Given the coordinates of a point (np array of 1x3, for (x, y, z)), move it randomly\n",
    "    in 3D space with a distance radius\n",
    "    \n",
    "    pts_arr: numpy array, representing the x, y, z of the point\n",
    "    radius: how much to move that point\n",
    "    \"\"\"\n",
    "    angle_1 = np.random.uniform(low=0, high=np.pi*2)\n",
    "    angle_2 = np.random.uniform(low=0, high=np.pi*2)\n",
    "    \n",
    "    new_x = np.cos(angle_1) * np.cos(angle_2) * radius\n",
    "    new_z = np.sin(angle_1) * np.cos(angle_2) * radius\n",
    "    new_y = np.sin(angle_2) * radius\n",
    "    \n",
    "    return np.array([new_x + pts_arr[0], new_y+ pts_arr[1], new_z + pts_arr[2]])"
   ]
  },
  {
   "cell_type": "markdown",
   "metadata": {},
   "source": [
    "## Computations"
   ]
  },
  {
   "cell_type": "code",
   "execution_count": null,
   "metadata": {},
   "outputs": [],
   "source": [
    "def convert_IF_to_distance(if_mat, c=1,  alpha=2):\n",
    "    \"\"\"\n",
    "    there will be infinity where there are zeros\n",
    "    \"\"\"\n",
    "    return c/np.power(if_mat, alpha)"
   ]
  },
  {
   "cell_type": "code",
   "execution_count": null,
   "metadata": {},
   "outputs": [],
   "source": [
    "def convert_distance_to_IF(distance_mat, c=1,  alpha=2):\n",
    "    \"\"\"\n",
    "    there will be infinity where there are zeros\n",
    "    \"\"\"\n",
    "    dists = cdist(distance_mat, distance_mat)\n",
    "    dists = c/np.power(dists, alpha)\n",
    "    dists[dists == np.inf ] = 0.0\n",
    "    return dists"
   ]
  },
  {
   "cell_type": "code",
   "execution_count": null,
   "metadata": {},
   "outputs": [],
   "source": [
    "def get_dists(pt, arr):\n",
    "    \"\"\"\n",
    "    Get Eucledian distance between ONE point and an array of points\n",
    "    \n",
    "    pt: np array 1x3, for each point\n",
    "    arr: nx3 array of points\n",
    "    \"\"\"\n",
    "    return np.linalg.norm(pt - arr, axis=1)"
   ]
  },
  {
   "cell_type": "markdown",
   "metadata": {},
   "source": [
    "## TODO"
   ]
  },
  {
   "cell_type": "code",
   "execution_count": null,
   "metadata": {},
   "outputs": [],
   "source": [
    "def compute_pt_ll(pt_coords, other_pts, IF_matrix_vals, sigma=1, c=1, alpha=2):\n",
    "    \"\"\"\n",
    "    pt_loc : a 1x3 array, representing x, y and z of the perturbed point\n",
    "    prox_matrix: a binary matrix representing non-zero IF entries w.r.t. this point\n",
    "    IF_matrix: the original IF matrix\n",
    "    sigma: the variance to be used\n",
    "    \"\"\"\n",
    "    #Compute the inverse (Distance to IF)\n",
    "    #current_IF = convert_distance_to_IF()\n",
    "    dists = get_dists(pt_coords, other_pts)\n",
    "    dists = c/np.power(dists, alpha)\n",
    "    \n",
    "    return (dists - IF_matrix_vals)**2"
   ]
  },
  {
   "cell_type": "code",
   "execution_count": null,
   "metadata": {},
   "outputs": [],
   "source": [
    "def compute_pts_ll_array(pts_loc, prox_matrix, IF_matrix, sigma=1):\n",
    "    \"\"\"\n",
    "    Computes the initial likelihoods of all points. This initial value\n",
    "    will be used in the start of optimization to compare if the new perturbation\n",
    "    resulted for a more probable structure    \n",
    "    \"\"\"\n",
    "    lls = np.zeros(pts_loc.shape[0])\n",
    "    for p in range(pts_loc.shape[0]):\n",
    "        proximal_pts = pts_loc[prox_matrix[p,:]]\n",
    "        pt_IF = IF_matrix[p, prox_matrix[p,:]]\n",
    "        ll = compute_pt_ll(pts_loc[p], proximal_pts, pt_IF)\n",
    "        lls[p] = ll.sum()\n",
    "        \n",
    "    return lls"
   ]
  },
  {
   "cell_type": "code",
   "execution_count": null,
   "metadata": {},
   "outputs": [],
   "source": []
  },
  {
   "cell_type": "markdown",
   "metadata": {},
   "source": [
    "# Main"
   ]
  },
  {
   "cell_type": "markdown",
   "metadata": {},
   "source": [
    "## Load the Data and Initialize everything"
   ]
  },
  {
   "cell_type": "code",
   "execution_count": null,
   "metadata": {},
   "outputs": [],
   "source": [
    "#Change here for the path of files\n",
    "IF_FILE = './data/simulate_data_400.npy'\n",
    "ground_truth_file = './data/ground_truth_curves/double_spiral_400.npy'"
   ]
  },
  {
   "cell_type": "code",
   "execution_count": null,
   "metadata": {},
   "outputs": [],
   "source": [
    "#Load the data\n",
    "if_mat = load_IF(IF_FILE)\n",
    "gtruth_3d = np.load(ground_truth_file)\n",
    "gtruth_3d = gtruth_3d.T"
   ]
  },
  {
   "cell_type": "code",
   "execution_count": null,
   "metadata": {},
   "outputs": [],
   "source": [
    "#3D viz\n",
    "path = hv.Path3D(gtruth_3d)\n",
    "scatter = hv.Scatter3D((gtruth_3d[:,0].flat, gtruth_3d[:,1].flat, gtruth_3d[:,2].flat))\n",
    "\n",
    "path * scatter"
   ]
  },
  {
   "cell_type": "code",
   "execution_count": null,
   "metadata": {},
   "outputs": [],
   "source": [
    "#Get some basic stats\n",
    "n_points = if_mat.shape[0]\n",
    "radius = 0.001"
   ]
  },
  {
   "cell_type": "code",
   "execution_count": null,
   "metadata": {},
   "outputs": [],
   "source": [
    "#Initialize our structure, before optimization we start from this random structure\n",
    "simulated_pts = random_connected_structure(0,0,0,400,0.05)\n",
    "#simulated_pts = random_connected_circle(0,0,0,400,1)"
   ]
  },
  {
   "cell_type": "code",
   "execution_count": null,
   "metadata": {},
   "outputs": [],
   "source": [
    "#visualize the randomly intialized structure\n",
    "path = hv.Path3D(simulated_pts)\n",
    "scatter = hv.Scatter3D((simulated_pts[:,0].flat, simulated_pts[:,1].flat, simulated_pts[:,2].flat))\n",
    "\n",
    "path * scatter"
   ]
  },
  {
   "cell_type": "code",
   "execution_count": null,
   "metadata": {},
   "outputs": [],
   "source": [
    "#Compute the simulated IF of the randomly generated points\n",
    "simulated_IF = convert_distance_to_IF(simulated_pts)\n",
    "simulated_IF"
   ]
  },
  {
   "cell_type": "code",
   "execution_count": null,
   "metadata": {},
   "outputs": [],
   "source": [
    "#Visualize the IF, \n",
    "plt.figure(figsize=(8, 8))\n",
    "\n",
    "sns.heatmap(simulated_IF)"
   ]
  },
  {
   "cell_type": "code",
   "execution_count": null,
   "metadata": {},
   "outputs": [],
   "source": [
    "#Get a filter of points to compute. This filter represents which points had an IF value\n",
    "#for a given point. This is better than having an array per point, since we can then vectorize\n",
    "#the oprations using the same arrays\n",
    "pts_proximity = create_pts_indices_of_interest(if_mat)"
   ]
  },
  {
   "cell_type": "code",
   "execution_count": null,
   "metadata": {},
   "outputs": [],
   "source": [
    "#Compute the initial likelihoods, for comparison in the optimization\n",
    "pts_likelihoods = compute_pts_ll_array(simulated_pts, pts_proximity, if_mat, sigma=1)"
   ]
  },
  {
   "cell_type": "markdown",
   "metadata": {},
   "source": [
    "## Main Loop"
   ]
  },
  {
   "cell_type": "code",
   "execution_count": null,
   "metadata": {},
   "outputs": [],
   "source": [
    "#Radius is the radius of the perturbation, how far should the point be moved.\n",
    "radius = 0.1\n",
    "counter = 1e5\n",
    "\n",
    "#Loop counter times\n",
    "for i in range(counter):\n",
    "    if i%10000 == 0:\n",
    "        print(i)\n",
    "        \n",
    "    #Pick a random point within the structure\n",
    "    random_point_index = np.random.randint(n_points)\n",
    "    random_point = simulated_pts[random_point_index]\n",
    "    \n",
    "    #Filter its neighbouring points who had an IF value in the Hi-C data\n",
    "    neighbouring_points_indices = pts_proximity[random_point_index, :]\n",
    "    neighbouring_points = simulated_pts[neighbouring_points_indices]\n",
    "    original_likelihood = pts_likelihoods[random_point_index]\n",
    "    \n",
    "    #Perturb that point\n",
    "    new_coords = perturb_randomly(random_point, radius)\n",
    "    \n",
    "    #compute likelihood of new point compared to the remaining points\n",
    "    pt_IF = if_mat[random_point_index, pts_proximity[random_point_index,:]]\n",
    "    new_distances = compute_pt_ll(new_coords, neighbouring_points, pt_IF)\n",
    "    new_likelihood = new_distances.sum() #Change this!\n",
    "    \n",
    "    # If we have a better structure, update the points coordinates\n",
    "    if new_likelihood < original_likelihood:\n",
    "        #Update the point\n",
    "        simulated_pts[random_point_index, :] = new_coords\n",
    "        pts_likelihoods[random_point_index] = new_likelihood"
   ]
  },
  {
   "cell_type": "code",
   "execution_count": null,
   "metadata": {},
   "outputs": [],
   "source": [
    "#Visualize the structure\n",
    "path = hv.Path3D(simulated_pts)\n",
    "scatter = hv.Scatter3D((simulated_pts[:,0].flat, simulated_pts[:,1].flat, simulated_pts[:,2].flat))\n",
    "\n",
    "path * scatter"
   ]
  },
  {
   "cell_type": "markdown",
   "metadata": {},
   "source": [
    "# NOTES"
   ]
  },
  {
   "cell_type": "markdown",
   "metadata": {},
   "source": [
    "For the inverse distance to IF, I think the used one in the paper is correct (Just by looking into the numbers). \n",
    "\n",
    "I will create a circular intialization. Notice how in this version, closer points have lower values (Closer points should have higher interaction frequency)."
   ]
  },
  {
   "cell_type": "code",
   "execution_count": null,
   "metadata": {},
   "outputs": [],
   "source": [
    "def convert_distance_to_IF_v2(distance_mat, c=1,  alpha=2):\n",
    "    \"\"\"\n",
    "    there will be infinity where there are zeros\n",
    "    \"\"\"\n",
    "    dists = cdist(distance_mat, distance_mat)\n",
    "    dists = np.power(dists, alpha)/c\n",
    "    dists[dists == np.inf ] = 0.0\n",
    "    return dists"
   ]
  },
  {
   "cell_type": "code",
   "execution_count": null,
   "metadata": {},
   "outputs": [],
   "source": [
    "simulated_pts = random_connected_circle(0,0,0,400,1)"
   ]
  },
  {
   "cell_type": "code",
   "execution_count": null,
   "metadata": {},
   "outputs": [],
   "source": [
    "path = hv.Path3D(simulated_pts)\n",
    "scatter = hv.Scatter3D((simulated_pts[:,0].flat, simulated_pts[:,1].flat, simulated_pts[:,2].flat))\n",
    "\n",
    "path * scatter"
   ]
  },
  {
   "cell_type": "code",
   "execution_count": null,
   "metadata": {},
   "outputs": [],
   "source": [
    "\n",
    "simulated_IF_v2 = convert_distance_to_IF_v2(simulated_pts)\n",
    "plt.figure(figsize=(8, 8))\n",
    "\n",
    "sns.heatmap(simulated_IF_v2)"
   ]
  },
  {
   "cell_type": "markdown",
   "metadata": {},
   "source": [
    "But here is the other one (Just swapping IF with distance)"
   ]
  },
  {
   "cell_type": "code",
   "execution_count": null,
   "metadata": {},
   "outputs": [],
   "source": [
    "simulated_IF = convert_distance_to_IF(simulated_pts)\n",
    "plt.figure(figsize=(8, 8))\n",
    "\n",
    "sns.heatmap(simulated_IF)"
   ]
  },
  {
   "cell_type": "code",
   "execution_count": null,
   "metadata": {},
   "outputs": [],
   "source": []
  }
 ],
 "metadata": {
  "kernelspec": {
   "display_name": "Python 3",
   "language": "python",
   "name": "python3"
  },
  "language_info": {
   "codemirror_mode": {
    "name": "ipython",
    "version": 3
   },
   "file_extension": ".py",
   "mimetype": "text/x-python",
   "name": "python",
   "nbconvert_exporter": "python",
   "pygments_lexer": "ipython3",
   "version": "3.7.4"
  }
 },
 "nbformat": 4,
 "nbformat_minor": 2
}
